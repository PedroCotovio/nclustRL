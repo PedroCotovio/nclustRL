{
 "cells": [
  {
   "cell_type": "code",
   "execution_count": 1,
   "id": "fatal-daniel",
   "metadata": {},
   "outputs": [
    {
     "name": "stderr",
     "output_type": "stream",
     "text": [
      "Using backend: pytorch\n"
     ]
    }
   ],
   "source": [
    "from ray.rllib.agents import ppo\n",
    "import ray\n",
    "import torch as th\n",
    "from ray.tune.logger import pretty_print\n",
    "import nclustRL\n",
    "from nclustRL.utils.helper import transform_obs\n",
    "from ray.tune import tune, grid_search\n",
    "from gym.wrappers import TransformObservation\n",
    "import nclustenv"
   ]
  },
  {
   "cell_type": "code",
   "execution_count": 2,
   "id": "better-rhythm",
   "metadata": {},
   "outputs": [],
   "source": [
    "try:\n",
    "    ray.init()\n",
    "except RuntimeError:\n",
    "    passgrid_searchdd"
   ]
  },
  {
   "cell_type": "code",
   "execution_count": null,
   "id": "regional-beast",
   "metadata": {},
   "outputs": [],
   "source": [
    "env = nclustenv.make(nclustenv.version.ENV_LIST[0])"
   ]
  },
  {
   "cell_type": "code",
   "execution_count": null,
   "id": "approved-greece",
   "metadata": {},
   "outputs": [],
   "source": [
    "\n",
    "env2 = TransformObservation(env, transform_obs)\n",
    "obs = env.reset()['state']\n",
    "obs_flat = env2.reset()['state']"
   ]
  },
  {
   "cell_type": "code",
   "execution_count": null,
   "id": "copyrighted-asset",
   "metadata": {},
   "outputs": [],
   "source": []
  }
 ],
 "metadata": {
  "interpreter": {
   "hash": "f057d67ad8388b0f5d50624cd1d42e8685c722b60a2c37b21ef81e4231f602cb"
  },
  "kernelspec": {
   "display_name": "venv",
   "language": "python",
   "name": "python3"
  },
  "language_info": {
   "codemirror_mode": {
    "name": "ipython",
    "version": 3
   },
   "file_extension": ".py",
   "mimetype": "text/x-python",
   "name": "python",
   "nbconvert_exporter": "python",
   "pygments_lexer": "ipython3",
   "version": "3.8.10"
  }
 },
 "nbformat": 4,
 "nbformat_minor": 5
}
