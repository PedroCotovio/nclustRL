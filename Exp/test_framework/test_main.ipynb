{
 "cells": [
  {
   "cell_type": "markdown",
   "metadata": {},
   "source": [
    "## Load packages"
   ]
  },
  {
   "cell_type": "code",
   "execution_count": 1,
   "metadata": {},
   "outputs": [],
   "source": [
    "%load_ext autoreload\n",
    "%autoreload 2\n",
    "\n",
    "from nclustRL.trainer import Trainer\n",
    "from nclustRL.configs.default_configs import PPO_PBT, DEFAULT_CONFIG\n",
    "from ray.rllib.agents.ppo import PPOTrainer\n",
    "from nclustenv.configs import biclustering, triclustering"
   ]
  },
  {
   "cell_type": "markdown",
   "metadata": {},
   "source": [
    " - Train basic v2 (done)\n",
    " - Hyperparam tune (1000 it)\n",
    "- train again with new params\n",
    "    - test trained and random (tuned)\n",
    "- train bic int basic\n",
    "- train tric bin basic\n",
    "- train tric int basic\n",
    "Plot\n",
    "    - basic v2 vs tunned v2 with baseline\n",
    "    - hyperparam tune\n",
    "    - tunned bic int v2\n",
    "    - tunned tric bin v2\n",
    "    - tunned tric int v2\n",
    "\n",
    "Compare all pre and pos training test scores "
   ]
  },
  {
   "cell_type": "markdown",
   "metadata": {},
   "source": [
    "## Biclustering"
   ]
  },
  {
   "cell_type": "markdown",
   "metadata": {},
   "source": [
    "### Hyperparam tune basic_v2"
   ]
  },
  {
   "cell_type": "markdown",
   "metadata": {},
   "source": [
    "#### Inicialize Trainer"
   ]
  },
  {
   "cell_type": "code",
   "execution_count": 2,
   "metadata": {},
   "outputs": [
    {
     "name": "stderr",
     "output_type": "stream",
     "text": [
      "2022-03-07 22:36:46,318\tINFO ppo.py:166 -- In multi-agent mode, policies will be optimized sequentially by the multi-GPU optimizer. Consider setting simple_optimizer=True if this doesn't work for you.\n",
      "\u001b[2m\u001b[36m(RolloutWorker pid=675616)\u001b[0m 2022-03-07 22:36:50,621\tINFO worker.py:852 -- Calling ray.init() again after it has already been called.\n",
      "\u001b[2m\u001b[36m(RolloutWorker pid=675611)\u001b[0m 2022-03-07 22:36:50,626\tINFO worker.py:852 -- Calling ray.init() again after it has already been called.\n",
      "\u001b[2m\u001b[36m(RolloutWorker pid=675615)\u001b[0m 2022-03-07 22:36:50,719\tINFO worker.py:852 -- Calling ray.init() again after it has already been called.\n",
      "\u001b[2m\u001b[36m(RolloutWorker pid=675607)\u001b[0m 2022-03-07 22:36:50,725\tINFO worker.py:852 -- Calling ray.init() again after it has already been called.\n",
      "\u001b[2m\u001b[36m(RolloutWorker pid=675616)\u001b[0m 2022-03-07 22:36:55,139\tINFO rollout_worker.py:1705 -- Validating sub-env at vector index=0 ... (ok)\n",
      "\u001b[2m\u001b[36m(RolloutWorker pid=675616)\u001b[0m 2022-03-07 22:36:55,139\tDEBUG rollout_worker.py:1534 -- Creating policy for default_policy\n",
      "\u001b[2m\u001b[36m(RolloutWorker pid=675611)\u001b[0m 2022-03-07 22:36:55,237\tINFO rollout_worker.py:1705 -- Validating sub-env at vector index=0 ... (ok)\n",
      "\u001b[2m\u001b[36m(RolloutWorker pid=675611)\u001b[0m 2022-03-07 22:36:55,237\tDEBUG rollout_worker.py:1534 -- Creating policy for default_policy\n",
      "\u001b[2m\u001b[36m(RolloutWorker pid=675615)\u001b[0m 2022-03-07 22:36:55,252\tINFO rollout_worker.py:1705 -- Validating sub-env at vector index=0 ... (ok)\n",
      "\u001b[2m\u001b[36m(RolloutWorker pid=675615)\u001b[0m 2022-03-07 22:36:55,252\tDEBUG rollout_worker.py:1534 -- Creating policy for default_policy\n",
      "\u001b[2m\u001b[36m(RolloutWorker pid=675607)\u001b[0m 2022-03-07 22:36:55,289\tINFO rollout_worker.py:1705 -- Validating sub-env at vector index=0 ... (ok)\n",
      "\u001b[2m\u001b[36m(RolloutWorker pid=675607)\u001b[0m 2022-03-07 22:36:55,289\tDEBUG rollout_worker.py:1534 -- Creating policy for default_policy\n",
      "\u001b[2m\u001b[36m(RolloutWorker pid=675616)\u001b[0m 2022-03-07 22:36:55,324\tINFO catalog.py:410 -- Wrapping <class 'nclustRL.models.model.RlModel'> as None\n",
      "\u001b[2m\u001b[36m(RolloutWorker pid=675616)\u001b[0m 2022-03-07 22:36:55,326\tINFO torch_policy.py:186 -- TorchPolicy (worker=1) running on 0.24975 GPU(s).\n",
      "\u001b[2m\u001b[36m(RolloutWorker pid=675616)\u001b[0m /home/pgcotovio/repos/nclustRL/nclustRL/models/model.py:147: UserWarning: Forward is running with random obs, this should only be acceptable during policy inicialization.\n",
      "\u001b[2m\u001b[36m(RolloutWorker pid=675616)\u001b[0m   warnings.warn('Forward is running with random obs, this should only be acceptable during policy inicialization.')\n",
      "\u001b[2m\u001b[36m(RolloutWorker pid=675611)\u001b[0m 2022-03-07 22:36:55,407\tINFO catalog.py:410 -- Wrapping <class 'nclustRL.models.model.RlModel'> as None\n",
      "\u001b[2m\u001b[36m(RolloutWorker pid=675611)\u001b[0m 2022-03-07 22:36:55,411\tINFO torch_policy.py:186 -- TorchPolicy (worker=3) running on 0.24975 GPU(s).\n",
      "\u001b[2m\u001b[36m(RolloutWorker pid=675611)\u001b[0m /home/pgcotovio/repos/nclustRL/nclustRL/models/model.py:147: UserWarning: Forward is running with random obs, this should only be acceptable during policy inicialization.\n",
      "\u001b[2m\u001b[36m(RolloutWorker pid=675611)\u001b[0m   warnings.warn('Forward is running with random obs, this should only be acceptable during policy inicialization.')\n",
      "\u001b[2m\u001b[36m(RolloutWorker pid=675615)\u001b[0m 2022-03-07 22:36:55,418\tINFO catalog.py:410 -- Wrapping <class 'nclustRL.models.model.RlModel'> as None\n",
      "\u001b[2m\u001b[36m(RolloutWorker pid=675615)\u001b[0m 2022-03-07 22:36:55,422\tINFO torch_policy.py:186 -- TorchPolicy (worker=2) running on 0.24975 GPU(s).\n",
      "\u001b[2m\u001b[36m(RolloutWorker pid=675615)\u001b[0m /home/pgcotovio/repos/nclustRL/nclustRL/models/model.py:147: UserWarning: Forward is running with random obs, this should only be acceptable during policy inicialization.\n",
      "\u001b[2m\u001b[36m(RolloutWorker pid=675615)\u001b[0m   warnings.warn('Forward is running with random obs, this should only be acceptable during policy inicialization.')\n",
      "\u001b[2m\u001b[36m(RolloutWorker pid=675607)\u001b[0m 2022-03-07 22:36:55,455\tINFO catalog.py:410 -- Wrapping <class 'nclustRL.models.model.RlModel'> as None\n",
      "\u001b[2m\u001b[36m(RolloutWorker pid=675607)\u001b[0m 2022-03-07 22:36:55,459\tINFO torch_policy.py:186 -- TorchPolicy (worker=4) running on 0.24975 GPU(s).\n",
      "\u001b[2m\u001b[36m(RolloutWorker pid=675607)\u001b[0m /home/pgcotovio/repos/nclustRL/nclustRL/models/model.py:147: UserWarning: Forward is running with random obs, this should only be acceptable during policy inicialization.\n",
      "\u001b[2m\u001b[36m(RolloutWorker pid=675607)\u001b[0m   warnings.warn('Forward is running with random obs, this should only be acceptable during policy inicialization.')\n",
      "\u001b[2m\u001b[36m(RolloutWorker pid=675611)\u001b[0m 2022-03-07 22:36:56,428\tDEBUG rollout_worker.py:728 -- Created rollout worker with env <ray.rllib.env.base_env._VectorEnvToBaseEnv object at 0x7f13e47c3c10> (<TransformObservation<OrderEnforcing<BiclusterEnv<BiclusterEnv-v0>>>>), policies {}\n",
      "\u001b[2m\u001b[36m(RolloutWorker pid=675615)\u001b[0m 2022-03-07 22:36:56,478\tDEBUG rollout_worker.py:728 -- Created rollout worker with env <ray.rllib.env.base_env._VectorEnvToBaseEnv object at 0x7fa762707610> (<TransformObservation<OrderEnforcing<BiclusterEnv<BiclusterEnv-v0>>>>), policies {}\n",
      "\u001b[2m\u001b[36m(RolloutWorker pid=675607)\u001b[0m 2022-03-07 22:36:56,490\tDEBUG rollout_worker.py:728 -- Created rollout worker with env <ray.rllib.env.base_env._VectorEnvToBaseEnv object at 0x7f3a9159bfa0> (<TransformObservation<OrderEnforcing<BiclusterEnv<BiclusterEnv-v0>>>>), policies {}\n",
      "2022-03-07 22:36:56,604\tINFO worker_set.py:104 -- Inferred observation/action spaces from remote worker (local worker has no env): {'default_policy': (Dict(action_mask:Box([0. 0. 0. 0.], [1. 1. 1. 1.], (4,), float32), avail_actions:Box([0. 0. 0. 0.], [1. 1. 1. 1.], (4,), float32), state:Box([6 6], [6 6], (2,), int32)), Tuple(Discrete(4), Tuple(Box([0. 0. 0.], [1. 1. 1.], (3,), float32), Box([0. 0. 0.], [1. 1. 1.], (3,), float32), Box([0. 0. 0.], [1. 1. 1.], (3,), float32), Box([0. 0. 0.], [1. 1. 1.], (3,), float32)))), '__env__': (Dict(action_mask:Box([0. 0. 0. 0.], [1. 1. 1. 1.], (4,), float32), avail_actions:Box([0. 0. 0. 0.], [1. 1. 1. 1.], (4,), float32), state:Box([6 6], [6 6], (2,), int32)), Tuple(Discrete(4), Tuple(Box([0. 0. 0.], [1. 1. 1.], (3,), float32), Box([0. 0. 0.], [1. 1. 1.], (3,), float32), Box([0. 0. 0.], [1. 1. 1.], (3,), float32), Box([0. 0. 0.], [1. 1. 1.], (3,), float32))))}\n",
      "2022-03-07 22:36:56,605\tDEBUG rollout_worker.py:1534 -- Creating policy for default_policy\n",
      "2022-03-07 22:36:56,608\tINFO catalog.py:410 -- Wrapping <class 'nclustRL.models.model.RlModel'> as None\n",
      "\u001b[2m\u001b[36m(RolloutWorker pid=675616)\u001b[0m 2022-03-07 22:36:56,595\tDEBUG rollout_worker.py:728 -- Created rollout worker with env <ray.rllib.env.base_env._VectorEnvToBaseEnv object at 0x7fa6529e2610> (<TransformObservation<OrderEnforcing<BiclusterEnv<BiclusterEnv-v0>>>>), policies {}\n",
      "2022-03-07 22:36:56,630\tINFO torch_policy.py:186 -- TorchPolicy (worker=local) running on 0.0001 GPU(s).\n",
      "/home/pgcotovio/repos/nclustRL/nclustRL/models/model.py:147: UserWarning: Forward is running with random obs, this should only be acceptable during policy inicialization.\n",
      "  warnings.warn('Forward is running with random obs, this should only be acceptable during policy inicialization.')\n",
      "2022-03-07 22:37:00,609\tINFO rollout_worker.py:1555 -- Built policy map: {}\n",
      "2022-03-07 22:37:00,610\tINFO rollout_worker.py:1556 -- Built preprocessor map: {'default_policy': None}\n",
      "2022-03-07 22:37:00,610\tINFO rollout_worker.py:618 -- Built filter map: {'default_policy': <ray.rllib.utils.filter.NoFilter object at 0x7f89380d83a0>}\n",
      "2022-03-07 22:37:00,610\tDEBUG rollout_worker.py:728 -- Created rollout worker with env None (None), policies {}\n",
      "2022-03-07 22:37:00,613\tINFO trainable.py:124 -- Trainable.setup took 14.296 seconds. If your trainable is slow to initialize, consider setting reuse_actors=True to reduce actor creation overheads.\n"
     ]
    }
   ],
   "source": [
    "config = DEFAULT_CONFIG.copy()\n",
    "config['env_config'] = biclustering.binary.basic_v2\n",
    "\n",
    "trainer = Trainer(\n",
    "    trainer=PPOTrainer,\n",
    "    env='BiclusterEnv-v0',\n",
    "    save_dir='/home/pgcotovio/repos/nclustRL/Exp/test_framework2',\n",
    "    name='basic_config_v2_hypertune',\n",
    "    config=config\n",
    ")"
   ]
  },
  {
   "cell_type": "markdown",
   "metadata": {},
   "source": [
    "#### Train agent"
   ]
  },
  {
   "cell_type": "code",
   "execution_count": 3,
   "metadata": {},
   "outputs": [
    {
     "data": {
      "text/html": [
       "== Status ==<br>Current time: 2022-03-08 06:46:14 (running for 08:09:14.07)<br>Memory usage on this node: 39.8/62.7 GiB<br>PopulationBasedTraining: 53 checkpoints, 56 perturbs<br>Resources requested: 0/12 CPUs, 0/2 GPUs, 0.0/33.64 GiB heap, 0.0/16.82 GiB objects<br>Current best trial: 1aa3d_00002 with episode_reward_mean=-1.1260448933782277 and parameters={'num_workers': 4, 'num_envs_per_worker': 1, 'create_env_on_driver': False, 'rollout_fragment_length': 353, 'batch_mode': 'truncate_episodes', 'gamma': 0.99, 'lr': 0.0005, 'train_batch_size': 1413, 'model': {'_use_default_native_models': False, '_disable_preprocessor_api': True, 'fcnet_hiddens': [256, 256], 'fcnet_activation': 'tanh', 'conv_filters': None, 'conv_activation': 'relu', 'post_fcnet_hiddens': [], 'post_fcnet_activation': 'relu', 'free_log_std': False, 'no_final_linear': False, 'vf_share_layers': False, 'use_lstm': False, 'max_seq_len': 20, 'lstm_cell_size': 256, 'lstm_use_prev_action': False, 'lstm_use_prev_reward': False, '_time_major': False, 'use_attention': False, 'attention_num_transformer_units': 1, 'attention_dim': 64, 'attention_num_heads': 1, 'attention_head_dim': 32, 'attention_memory_inference': 50, 'attention_memory_training': 50, 'attention_position_wise_mlp_dim': 32, 'attention_init_gru_gate_bias': 2.0, 'attention_use_n_prev_actions': 0, 'attention_use_n_prev_rewards': 0, 'framestack': True, 'dim': 84, 'grayscale': False, 'zero_mean': True, 'custom_model': 'general_model_torch', 'custom_model_config': {'fcnet_feats': [256, 256]}, 'custom_action_dist': None, 'custom_preprocessor': None, 'lstm_use_prev_action_reward': -1}, 'optimizer': {}, 'horizon': None, 'soft_horizon': False, 'no_done_at_end': False, 'env': 'BiclusterEnv-v0', 'observation_space': None, 'action_space': None, 'env_config': {'shape': [[6, 6], [6, 6]], 'n': 1, 'clusters': [1, 1], 'dataset_settings': {'dstype': {'value': 'Symbolic'}, 'patterns': {'value': [['CONSTANT', 'CONSTANT']]}, 'symbols': {'value': [-1, 1]}, 'bktype': {'value': 'UNIFORM'}, 'clusterdistribution': {'value': [['UNIFORM', 4, 4], ['UNIFORM', 3, 3]]}, 'contiguity': {'value': None}, 'plaidcoherency': {'value': 'NO_OVERLAPPING'}}, 'max_steps': 1000, 'seed': 175}, 'remote_worker_envs': False, 'remote_env_batch_wait_ms': 0, 'env_task_fn': None, 'render_env': False, 'record_env': False, 'clip_rewards': False, 'normalize_actions': True, 'clip_actions': False, 'preprocessor_pref': None, 'log_level': 'DEBUG', 'callbacks': <class 'ray.rllib.agents.callbacks.DefaultCallbacks'>, 'ignore_worker_failures': False, 'log_sys_usage': True, 'fake_sampler': False, 'framework': 'torch', 'eager_tracing': False, 'eager_max_retraces': 20, 'explore': True, 'exploration_config': {'type': 'StochasticSampling'}, 'evaluation_interval': None, 'evaluation_num_episodes': 10, 'evaluation_parallel_to_training': False, 'in_evaluation': False, 'evaluation_config': {'explore': False}, 'evaluation_num_workers': 0, 'custom_eval_function': None, 'sample_async': False, 'sample_collector': <class 'ray.rllib.evaluation.collectors.simple_list_collector.SimpleListCollector'>, 'observation_filter': 'NoFilter', 'synchronize_filters': True, 'tf_session_args': {'intra_op_parallelism_threads': 2, 'inter_op_parallelism_threads': 2, 'gpu_options': {'allow_growth': True}, 'log_device_placement': False, 'device_count': {'CPU': 1}, 'allow_soft_placement': True}, 'local_tf_session_args': {'intra_op_parallelism_threads': 8, 'inter_op_parallelism_threads': 8}, 'compress_observations': False, 'collect_metrics_timeout': 180, 'metrics_smoothing_episodes': 100, 'min_iter_time_s': 0, 'timesteps_per_iteration': 0, 'seed': 175, 'extra_python_environs_for_driver': {}, 'extra_python_environs_for_worker': {}, 'num_gpus': 0.0001, '_fake_gpus': False, 'num_cpus_per_worker': 1, 'num_gpus_per_worker': 0.24975, 'custom_resources_per_worker': {}, 'num_cpus_for_driver': 1, 'placement_strategy': 'PACK', 'input': 'sampler', 'input_config': {}, 'actions_in_input_normalized': False, 'input_evaluation': ['is', 'wis'], 'postprocess_inputs': False, 'shuffle_buffer_size': 0, 'output': None, 'output_compress_columns': ['obs', 'new_obs'], 'output_max_file_size': 67108864, 'multiagent': {'policies': {'default_policy': PolicySpec(policy_class=<class 'ray.rllib.agents.ppo.ppo_torch_policy.PPOTorchPolicy'>, observation_space=None, action_space=None, config={})}, 'policy_map_capacity': 100, 'policy_map_cache': None, 'policy_mapping_fn': None, 'policies_to_train': None, 'observation_fn': None, 'replay_mode': 'independent', 'count_steps_by': 'env_steps'}, 'logger_config': None, '_tf_policy_handles_more_than_one_loss': False, '_disable_preprocessor_api': True, 'simple_optimizer': False, 'monitor': -1, 'use_critic': True, 'use_gae': True, 'lambda': 0.9216, 'kl_coeff': 1.129804891567713, 'sgd_minibatch_size': 368, 'shuffle_sequences': True, 'num_sgd_iter': 17, 'lr_schedule': None, 'vf_loss_coeff': 0.7668187384145115, 'entropy_coeff': 0.003833227135256046, 'entropy_coeff_schedule': None, 'clip_param': 0.3614216984897831, 'vf_clip_param': 6.144, 'grad_clip': None, 'kl_target': 0.009216, 'vf_share_layers': -1}<br>Result logdir: /home/pgcotovio/repos/nclustRL/Exp/test_framework2/basic_config_v2_hypertune/sample_0/PPO_2022-03-07_22-37-00<br>Number of trials: 8/8 (6 ERROR, 2 TERMINATED)<br>Number of errored trials: 6<br><table>\n",
       "<thead>\n",
       "<tr><th>Trial name                     </th><th style=\"text-align: right;\">  # failures</th><th>error file                                                                                                                                                                   </th></tr>\n",
       "</thead>\n",
       "<tbody>\n",
       "<tr><td>PPO_BiclusterEnv-v0_1aa3d_00000</td><td style=\"text-align: right;\">           1</td><td>/home/pgcotovio/repos/nclustRL/Exp/test_framework2/basic_config_v2_hypertune/sample_0/PPO_2022-03-07_22-37-00/PPO_BiclusterEnv-v0_1aa3d_00000_0_2022-03-07_22-37-00/error.txt</td></tr>\n",
       "<tr><td>PPO_BiclusterEnv-v0_1aa3d_00001</td><td style=\"text-align: right;\">           1</td><td>/home/pgcotovio/repos/nclustRL/Exp/test_framework2/basic_config_v2_hypertune/sample_0/PPO_2022-03-07_22-37-00/PPO_BiclusterEnv-v0_1aa3d_00001_1_2022-03-07_22-37-00/error.txt</td></tr>\n",
       "<tr><td>PPO_BiclusterEnv-v0_1aa3d_00002</td><td style=\"text-align: right;\">           1</td><td>/home/pgcotovio/repos/nclustRL/Exp/test_framework2/basic_config_v2_hypertune/sample_0/PPO_2022-03-07_22-37-00/PPO_BiclusterEnv-v0_1aa3d_00002_2_2022-03-07_22-39-22/error.txt</td></tr>\n",
       "<tr><td>PPO_BiclusterEnv-v0_1aa3d_00003</td><td style=\"text-align: right;\">           1</td><td>/home/pgcotovio/repos/nclustRL/Exp/test_framework2/basic_config_v2_hypertune/sample_0/PPO_2022-03-07_22-37-00/PPO_BiclusterEnv-v0_1aa3d_00003_3_2022-03-07_22-41-42/error.txt</td></tr>\n",
       "<tr><td>PPO_BiclusterEnv-v0_1aa3d_00004</td><td style=\"text-align: right;\">           1</td><td>/home/pgcotovio/repos/nclustRL/Exp/test_framework2/basic_config_v2_hypertune/sample_0/PPO_2022-03-07_22-37-00/PPO_BiclusterEnv-v0_1aa3d_00004_4_2022-03-07_22-44-09/error.txt</td></tr>\n",
       "<tr><td>PPO_BiclusterEnv-v0_1aa3d_00005</td><td style=\"text-align: right;\">           1</td><td>/home/pgcotovio/repos/nclustRL/Exp/test_framework2/basic_config_v2_hypertune/sample_0/PPO_2022-03-07_22-37-00/PPO_BiclusterEnv-v0_1aa3d_00005_5_2022-03-07_22-46-25/error.txt</td></tr>\n",
       "</tbody>\n",
       "</table><br>"
      ],
      "text/plain": [
       "<IPython.core.display.HTML object>"
      ]
     },
     "metadata": {},
     "output_type": "display_data"
    },
    {
     "name": "stderr",
     "output_type": "stream",
     "text": [
      "Sample 1: : 0sample [8:09:14, ?sample/s]\n"
     ]
    },
    {
     "ename": "TuneError",
     "evalue": "('Trials did not complete', [PPO_BiclusterEnv-v0_1aa3d_00000, PPO_BiclusterEnv-v0_1aa3d_00001, PPO_BiclusterEnv-v0_1aa3d_00002, PPO_BiclusterEnv-v0_1aa3d_00003, PPO_BiclusterEnv-v0_1aa3d_00004, PPO_BiclusterEnv-v0_1aa3d_00005])",
     "output_type": "error",
     "traceback": [
      "\u001b[0;31m---------------------------------------------------------------------------\u001b[0m",
      "\u001b[0;31mTuneError\u001b[0m                                 Traceback (most recent call last)",
      "\u001b[1;32m/home/pgcotovio/repos/nclustRL/Exp/test_framework/test_main.ipynb Cell 9'\u001b[0m in \u001b[0;36m<cell line: 1>\u001b[0;34m()\u001b[0m\n\u001b[0;32m----> <a href='vscode-notebook-cell:/home/pgcotovio/repos/nclustRL/Exp/test_framework/test_main.ipynb#ch0000019?line=0'>1</a>\u001b[0m best_checkpoint \u001b[39m=\u001b[39m trainer\u001b[39m.\u001b[39;49mtrain(\n\u001b[1;32m      <a href='vscode-notebook-cell:/home/pgcotovio/repos/nclustRL/Exp/test_framework/test_main.ipynb#ch0000019?line=1'>2</a>\u001b[0m     num_samples\u001b[39m=\u001b[39;49m\u001b[39m8\u001b[39;49m, \n\u001b[1;32m      <a href='vscode-notebook-cell:/home/pgcotovio/repos/nclustRL/Exp/test_framework/test_main.ipynb#ch0000019?line=2'>3</a>\u001b[0m     scheduler\u001b[39m=\u001b[39;49mPPO_PBT,\n\u001b[1;32m      <a href='vscode-notebook-cell:/home/pgcotovio/repos/nclustRL/Exp/test_framework/test_main.ipynb#ch0000019?line=3'>4</a>\u001b[0m     stop_iters\u001b[39m=\u001b[39;49m\u001b[39m500\u001b[39;49m,\n\u001b[1;32m      <a href='vscode-notebook-cell:/home/pgcotovio/repos/nclustRL/Exp/test_framework/test_main.ipynb#ch0000019?line=4'>5</a>\u001b[0m )\n\u001b[1;32m      <a href='vscode-notebook-cell:/home/pgcotovio/repos/nclustRL/Exp/test_framework/test_main.ipynb#ch0000019?line=5'>6</a>\u001b[0m best_checkpoint\n",
      "File \u001b[0;32m~/repos/nclustRL/nclustRL/trainer.py:154\u001b[0m, in \u001b[0;36mTrainer.train\u001b[0;34m(self, n_samples, metric, mode, checkpoint_freq, stop, stop_iters, stop_metric, checkpoint, resume, verbose, *args, **kwargs)\u001b[0m\n\u001b[1;32m    <a href='file:///home/pgcotovio/repos/nclustRL/nclustRL/trainer.py?line=150'>151</a>\u001b[0m \u001b[39m# Update seeds\u001b[39;00m\n\u001b[1;32m    <a href='file:///home/pgcotovio/repos/nclustRL/nclustRL/trainer.py?line=151'>152</a>\u001b[0m config \u001b[39m=\u001b[39m \u001b[39mself\u001b[39m\u001b[39m.\u001b[39m_set_seed(seed)\n\u001b[0;32m--> <a href='file:///home/pgcotovio/repos/nclustRL/nclustRL/trainer.py?line=153'>154</a>\u001b[0m analysis \u001b[39m=\u001b[39m ray\u001b[39m.\u001b[39;49mtune\u001b[39m.\u001b[39;49mrun(\n\u001b[1;32m    <a href='file:///home/pgcotovio/repos/nclustRL/nclustRL/trainer.py?line=154'>155</a>\u001b[0m     \u001b[39mself\u001b[39;49m\u001b[39m.\u001b[39;49mtrainer,\n\u001b[1;32m    <a href='file:///home/pgcotovio/repos/nclustRL/nclustRL/trainer.py?line=155'>156</a>\u001b[0m     config\u001b[39m=\u001b[39;49mconfig,\n\u001b[1;32m    <a href='file:///home/pgcotovio/repos/nclustRL/nclustRL/trainer.py?line=156'>157</a>\u001b[0m     local_dir\u001b[39m=\u001b[39;49mlocal_dir,\n\u001b[1;32m    <a href='file:///home/pgcotovio/repos/nclustRL/nclustRL/trainer.py?line=157'>158</a>\u001b[0m     metric\u001b[39m=\u001b[39;49mmetric,\n\u001b[1;32m    <a href='file:///home/pgcotovio/repos/nclustRL/nclustRL/trainer.py?line=158'>159</a>\u001b[0m     mode\u001b[39m=\u001b[39;49mmode,\n\u001b[1;32m    <a href='file:///home/pgcotovio/repos/nclustRL/nclustRL/trainer.py?line=159'>160</a>\u001b[0m     stop\u001b[39m=\u001b[39;49mstop_criteria,\n\u001b[1;32m    <a href='file:///home/pgcotovio/repos/nclustRL/nclustRL/trainer.py?line=160'>161</a>\u001b[0m     checkpoint_at_end\u001b[39m=\u001b[39;49m\u001b[39mTrue\u001b[39;49;00m,\n\u001b[1;32m    <a href='file:///home/pgcotovio/repos/nclustRL/nclustRL/trainer.py?line=161'>162</a>\u001b[0m     checkpoint_freq\u001b[39m=\u001b[39;49mcheckpoint_freq,\n\u001b[1;32m    <a href='file:///home/pgcotovio/repos/nclustRL/nclustRL/trainer.py?line=162'>163</a>\u001b[0m     resume\u001b[39m=\u001b[39;49mresume,\n\u001b[1;32m    <a href='file:///home/pgcotovio/repos/nclustRL/nclustRL/trainer.py?line=163'>164</a>\u001b[0m     restore\u001b[39m=\u001b[39;49mcheckpoint,\n\u001b[1;32m    <a href='file:///home/pgcotovio/repos/nclustRL/nclustRL/trainer.py?line=164'>165</a>\u001b[0m     verbose\u001b[39m=\u001b[39;49mverbose,\n\u001b[1;32m    <a href='file:///home/pgcotovio/repos/nclustRL/nclustRL/trainer.py?line=165'>166</a>\u001b[0m     \u001b[39m*\u001b[39;49margs, \u001b[39m*\u001b[39;49m\u001b[39m*\u001b[39;49mkwargs\n\u001b[1;32m    <a href='file:///home/pgcotovio/repos/nclustRL/nclustRL/trainer.py?line=166'>167</a>\u001b[0m )\n\u001b[1;32m    <a href='file:///home/pgcotovio/repos/nclustRL/nclustRL/trainer.py?line=168'>169</a>\u001b[0m checkpoints \u001b[39m=\u001b[39m analysis\u001b[39m.\u001b[39mget_trial_checkpoints_paths(\n\u001b[1;32m    <a href='file:///home/pgcotovio/repos/nclustRL/nclustRL/trainer.py?line=169'>170</a>\u001b[0m     trial\u001b[39m=\u001b[39manalysis\u001b[39m.\u001b[39mget_best_trial(\n\u001b[1;32m    <a href='file:///home/pgcotovio/repos/nclustRL/nclustRL/trainer.py?line=170'>171</a>\u001b[0m         metric\u001b[39m=\u001b[39mmetric,\n\u001b[1;32m    <a href='file:///home/pgcotovio/repos/nclustRL/nclustRL/trainer.py?line=171'>172</a>\u001b[0m         mode\u001b[39m=\u001b[39mmode), metric\u001b[39m=\u001b[39mmetric)\n\u001b[1;32m    <a href='file:///home/pgcotovio/repos/nclustRL/nclustRL/trainer.py?line=173'>174</a>\u001b[0m results\u001b[39m.\u001b[39mappend({\n\u001b[1;32m    <a href='file:///home/pgcotovio/repos/nclustRL/nclustRL/trainer.py?line=174'>175</a>\u001b[0m     \u001b[39m'\u001b[39m\u001b[39mconfig\u001b[39m\u001b[39m'\u001b[39m: analysis\u001b[39m.\u001b[39mget_best_config(metric\u001b[39m=\u001b[39mmetric, mode\u001b[39m=\u001b[39mmode),\n\u001b[1;32m    <a href='file:///home/pgcotovio/repos/nclustRL/nclustRL/trainer.py?line=175'>176</a>\u001b[0m     \u001b[39m'\u001b[39m\u001b[39mpath\u001b[39m\u001b[39m'\u001b[39m: checkpoints[\u001b[39m0\u001b[39m][\u001b[39m0\u001b[39m],\n\u001b[1;32m    <a href='file:///home/pgcotovio/repos/nclustRL/nclustRL/trainer.py?line=176'>177</a>\u001b[0m     \u001b[39m'\u001b[39m\u001b[39mmetric\u001b[39m\u001b[39m'\u001b[39m: checkpoints[\u001b[39m0\u001b[39m][\u001b[39m1\u001b[39m],\n\u001b[1;32m    <a href='file:///home/pgcotovio/repos/nclustRL/nclustRL/trainer.py?line=177'>178</a>\u001b[0m     \u001b[39m'\u001b[39m\u001b[39mdf\u001b[39m\u001b[39m'\u001b[39m: analysis\u001b[39m.\u001b[39mdataframe()\n\u001b[1;32m    <a href='file:///home/pgcotovio/repos/nclustRL/nclustRL/trainer.py?line=178'>179</a>\u001b[0m })\n",
      "File \u001b[0;32m~/repos/nclustRL/venv/lib/python3.8/site-packages/ray/tune/tune.py:620\u001b[0m, in \u001b[0;36mrun\u001b[0;34m(run_or_experiment, name, metric, mode, stop, time_budget_s, config, resources_per_trial, num_samples, local_dir, search_alg, scheduler, keep_checkpoints_num, checkpoint_score_attr, checkpoint_freq, checkpoint_at_end, verbose, progress_reporter, log_to_file, trial_name_creator, trial_dirname_creator, sync_config, export_formats, max_failures, fail_fast, restore, server_port, resume, reuse_actors, trial_executor, raise_on_failed_trial, callbacks, max_concurrent_trials, queue_trials, loggers, _remote)\u001b[0m\n\u001b[1;32m    <a href='file:///home/pgcotovio/repos/nclustRL/venv/lib/python3.8/site-packages/ray/tune/tune.py?line=617'>618</a>\u001b[0m \u001b[39mif\u001b[39;00m incomplete_trials:\n\u001b[1;32m    <a href='file:///home/pgcotovio/repos/nclustRL/venv/lib/python3.8/site-packages/ray/tune/tune.py?line=618'>619</a>\u001b[0m     \u001b[39mif\u001b[39;00m raise_on_failed_trial \u001b[39mand\u001b[39;00m \u001b[39mnot\u001b[39;00m state[signal\u001b[39m.\u001b[39mSIGINT]:\n\u001b[0;32m--> <a href='file:///home/pgcotovio/repos/nclustRL/venv/lib/python3.8/site-packages/ray/tune/tune.py?line=619'>620</a>\u001b[0m         \u001b[39mraise\u001b[39;00m TuneError(\u001b[39m\"\u001b[39m\u001b[39mTrials did not complete\u001b[39m\u001b[39m\"\u001b[39m, incomplete_trials)\n\u001b[1;32m    <a href='file:///home/pgcotovio/repos/nclustRL/venv/lib/python3.8/site-packages/ray/tune/tune.py?line=620'>621</a>\u001b[0m     \u001b[39melse\u001b[39;00m:\n\u001b[1;32m    <a href='file:///home/pgcotovio/repos/nclustRL/venv/lib/python3.8/site-packages/ray/tune/tune.py?line=621'>622</a>\u001b[0m         logger\u001b[39m.\u001b[39merror(\u001b[39m\"\u001b[39m\u001b[39mTrials did not complete: \u001b[39m\u001b[39m%s\u001b[39;00m\u001b[39m\"\u001b[39m, incomplete_trials)\n",
      "\u001b[0;31mTuneError\u001b[0m: ('Trials did not complete', [PPO_BiclusterEnv-v0_1aa3d_00000, PPO_BiclusterEnv-v0_1aa3d_00001, PPO_BiclusterEnv-v0_1aa3d_00002, PPO_BiclusterEnv-v0_1aa3d_00003, PPO_BiclusterEnv-v0_1aa3d_00004, PPO_BiclusterEnv-v0_1aa3d_00005])"
     ]
    },
    {
     "name": "stderr",
     "output_type": "stream",
     "text": [
      "E0308 07:15:14.330982601 1276305 backup_poller.cc:134]       Run client channel backup poller: {\"created\":\"@1646723714.330933308\",\"description\":\"pollset_work\",\"file\":\"src/core/lib/iomgr/ev_epollex_linux.cc\",\"file_line\":320,\"referenced_errors\":[{\"created\":\"@1646723714.330928358\",\"description\":\"Bad file descriptor\",\"errno\":9,\"file\":\"src/core/lib/iomgr/ev_epollex_linux.cc\",\"file_line\":950,\"os_error\":\"Bad file descriptor\",\"syscall\":\"epoll_wait\"}]}\n",
      "E0308 08:18:04.773014983 1310618 backup_poller.cc:134]       Run client channel backup poller: {\"created\":\"@1646727484.772970068\",\"description\":\"pollset_work\",\"file\":\"src/core/lib/iomgr/ev_epollex_linux.cc\",\"file_line\":320,\"referenced_errors\":[{\"created\":\"@1646727484.772965149\",\"description\":\"Bad file descriptor\",\"errno\":9,\"file\":\"src/core/lib/iomgr/ev_epollex_linux.cc\",\"file_line\":950,\"os_error\":\"Bad file descriptor\",\"syscall\":\"epoll_wait\"}]}\n",
      "E0308 09:58:25.156963441 1365770 backup_poller.cc:134]       Run client channel backup poller: {\"created\":\"@1646733505.156922984\",\"description\":\"pollset_work\",\"file\":\"src/core/lib/iomgr/ev_epollex_linux.cc\",\"file_line\":320,\"referenced_errors\":[{\"created\":\"@1646733505.156918997\",\"description\":\"Bad file descriptor\",\"errno\":9,\"file\":\"src/core/lib/iomgr/ev_epollex_linux.cc\",\"file_line\":950,\"os_error\":\"Bad file descriptor\",\"syscall\":\"epoll_wait\"}]}\n"
     ]
    }
   ],
   "source": [
    "best_checkpoint = trainer.train(\n",
    "    num_samples=8, \n",
    "    scheduler=PPO_PBT,\n",
    "    stop_iters=500,\n",
    ")\n",
    "best_checkpoint"
   ]
  },
  {
   "cell_type": "code",
   "execution_count": 7,
   "metadata": {},
   "outputs": [
    {
     "name": "stderr",
     "output_type": "stream",
     "text": [
      "2022-03-08 10:18:13,896\tINFO experiment_analysis.py:673 -- No `self.trials`. Drawing logdirs from checkpoint file. This may result in some information that is out of sync, as checkpointing is periodic.\n",
      "/home/pgcotovio/repos/nclustRL/venv/lib/python3.8/site-packages/ray/tune/analysis/experiment_analysis.py:262: UserWarning: Dataframes will use '/' instead of '.' to delimit nested result keys in future versions of Ray. For forward compatibility, set the environment variable TUNE_RESULT_DELIM='/'\n",
      "  warnings.warn(\n"
     ]
    },
    {
     "data": {
      "text/html": [
       "<div>\n",
       "<style scoped>\n",
       "    .dataframe tbody tr th:only-of-type {\n",
       "        vertical-align: middle;\n",
       "    }\n",
       "\n",
       "    .dataframe tbody tr th {\n",
       "        vertical-align: top;\n",
       "    }\n",
       "\n",
       "    .dataframe thead th {\n",
       "        text-align: right;\n",
       "    }\n",
       "</style>\n",
       "<table border=\"1\" class=\"dataframe\">\n",
       "  <thead>\n",
       "    <tr style=\"text-align: right;\">\n",
       "      <th></th>\n",
       "      <th>episode_reward_max</th>\n",
       "      <th>episode_reward_min</th>\n",
       "      <th>episode_reward_mean</th>\n",
       "      <th>episode_len_mean</th>\n",
       "      <th>episodes_this_iter</th>\n",
       "      <th>num_healthy_workers</th>\n",
       "      <th>timesteps_total</th>\n",
       "      <th>timesteps_this_iter</th>\n",
       "      <th>agent_timesteps_total</th>\n",
       "      <th>done</th>\n",
       "      <th>...</th>\n",
       "      <th>info.learner.default_policy.learner_stats.kl</th>\n",
       "      <th>info.learner.default_policy.learner_stats.entropy</th>\n",
       "      <th>info.learner.default_policy.learner_stats.entropy_coeff</th>\n",
       "      <th>config.env_config.dataset_settings.dstype.value</th>\n",
       "      <th>config.env_config.dataset_settings.patterns.value</th>\n",
       "      <th>config.env_config.dataset_settings.symbols.value</th>\n",
       "      <th>config.env_config.dataset_settings.bktype.value</th>\n",
       "      <th>config.env_config.dataset_settings.clusterdistribution.value</th>\n",
       "      <th>config.env_config.dataset_settings.contiguity.value</th>\n",
       "      <th>config.env_config.dataset_settings.plaidcoherency.value</th>\n",
       "    </tr>\n",
       "    <tr>\n",
       "      <th>trial_id</th>\n",
       "      <th></th>\n",
       "      <th></th>\n",
       "      <th></th>\n",
       "      <th></th>\n",
       "      <th></th>\n",
       "      <th></th>\n",
       "      <th></th>\n",
       "      <th></th>\n",
       "      <th></th>\n",
       "      <th></th>\n",
       "      <th></th>\n",
       "      <th></th>\n",
       "      <th></th>\n",
       "      <th></th>\n",
       "      <th></th>\n",
       "      <th></th>\n",
       "      <th></th>\n",
       "      <th></th>\n",
       "      <th></th>\n",
       "      <th></th>\n",
       "      <th></th>\n",
       "    </tr>\n",
       "  </thead>\n",
       "  <tbody>\n",
       "    <tr>\n",
       "      <th>1aa3d_00006</th>\n",
       "      <td>-1.333333</td>\n",
       "      <td>-1.583333</td>\n",
       "      <td>-1.467803</td>\n",
       "      <td>1001.000000</td>\n",
       "      <td>0</td>\n",
       "      <td>4</td>\n",
       "      <td>744092</td>\n",
       "      <td>0</td>\n",
       "      <td>744092</td>\n",
       "      <td>True</td>\n",
       "      <td>...</td>\n",
       "      <td>0.002179</td>\n",
       "      <td>22.028414</td>\n",
       "      <td>0.002321</td>\n",
       "      <td>Symbolic</td>\n",
       "      <td>[[CONSTANT, CONSTANT]]</td>\n",
       "      <td>[-1, 1]</td>\n",
       "      <td>UNIFORM</td>\n",
       "      <td>[[UNIFORM, 4, 4], [UNIFORM, 3, 3]]</td>\n",
       "      <td>None</td>\n",
       "      <td>NO_OVERLAPPING</td>\n",
       "    </tr>\n",
       "    <tr>\n",
       "      <th>1aa3d_00005</th>\n",
       "      <td>2.339000</td>\n",
       "      <td>-1.700000</td>\n",
       "      <td>-1.230357</td>\n",
       "      <td>972.666667</td>\n",
       "      <td>7</td>\n",
       "      <td>4</td>\n",
       "      <td>276048</td>\n",
       "      <td>0</td>\n",
       "      <td>276048</td>\n",
       "      <td>False</td>\n",
       "      <td>...</td>\n",
       "      <td>0.012192</td>\n",
       "      <td>23.476130</td>\n",
       "      <td>0.005750</td>\n",
       "      <td>Symbolic</td>\n",
       "      <td>[[CONSTANT, CONSTANT]]</td>\n",
       "      <td>[-1, 1]</td>\n",
       "      <td>UNIFORM</td>\n",
       "      <td>[[UNIFORM, 4, 4], [UNIFORM, 3, 3]]</td>\n",
       "      <td>None</td>\n",
       "      <td>NO_OVERLAPPING</td>\n",
       "    </tr>\n",
       "    <tr>\n",
       "      <th>1aa3d_00003</th>\n",
       "      <td>-1.333333</td>\n",
       "      <td>-1.777778</td>\n",
       "      <td>-1.527270</td>\n",
       "      <td>1001.000000</td>\n",
       "      <td>4</td>\n",
       "      <td>4</td>\n",
       "      <td>60416</td>\n",
       "      <td>0</td>\n",
       "      <td>60416</td>\n",
       "      <td>False</td>\n",
       "      <td>...</td>\n",
       "      <td>0.015615</td>\n",
       "      <td>16.129520</td>\n",
       "      <td>0.000000</td>\n",
       "      <td>Symbolic</td>\n",
       "      <td>[[CONSTANT, CONSTANT]]</td>\n",
       "      <td>[-1, 1]</td>\n",
       "      <td>UNIFORM</td>\n",
       "      <td>[[UNIFORM, 4, 4], [UNIFORM, 3, 3]]</td>\n",
       "      <td>None</td>\n",
       "      <td>NO_OVERLAPPING</td>\n",
       "    </tr>\n",
       "    <tr>\n",
       "      <th>1aa3d_00001</th>\n",
       "      <td>2.966000</td>\n",
       "      <td>-1.777778</td>\n",
       "      <td>-1.310688</td>\n",
       "      <td>944.117647</td>\n",
       "      <td>4</td>\n",
       "      <td>4</td>\n",
       "      <td>70224</td>\n",
       "      <td>0</td>\n",
       "      <td>70224</td>\n",
       "      <td>False</td>\n",
       "      <td>...</td>\n",
       "      <td>0.015242</td>\n",
       "      <td>15.071658</td>\n",
       "      <td>0.000000</td>\n",
       "      <td>Symbolic</td>\n",
       "      <td>[[CONSTANT, CONSTANT]]</td>\n",
       "      <td>[-1, 1]</td>\n",
       "      <td>UNIFORM</td>\n",
       "      <td>[[UNIFORM, 4, 4], [UNIFORM, 3, 3]]</td>\n",
       "      <td>None</td>\n",
       "      <td>NO_OVERLAPPING</td>\n",
       "    </tr>\n",
       "    <tr>\n",
       "      <th>1aa3d_00007</th>\n",
       "      <td>-1.300000</td>\n",
       "      <td>-1.666667</td>\n",
       "      <td>-1.454383</td>\n",
       "      <td>1001.000000</td>\n",
       "      <td>4</td>\n",
       "      <td>4</td>\n",
       "      <td>760992</td>\n",
       "      <td>0</td>\n",
       "      <td>760992</td>\n",
       "      <td>True</td>\n",
       "      <td>...</td>\n",
       "      <td>0.003000</td>\n",
       "      <td>23.003808</td>\n",
       "      <td>0.001934</td>\n",
       "      <td>Symbolic</td>\n",
       "      <td>[[CONSTANT, CONSTANT]]</td>\n",
       "      <td>[-1, 1]</td>\n",
       "      <td>UNIFORM</td>\n",
       "      <td>[[UNIFORM, 4, 4], [UNIFORM, 3, 3]]</td>\n",
       "      <td>None</td>\n",
       "      <td>NO_OVERLAPPING</td>\n",
       "    </tr>\n",
       "    <tr>\n",
       "      <th>1aa3d_00004</th>\n",
       "      <td>2.901000</td>\n",
       "      <td>-1.727273</td>\n",
       "      <td>-1.321223</td>\n",
       "      <td>964.920000</td>\n",
       "      <td>8</td>\n",
       "      <td>4</td>\n",
       "      <td>699288</td>\n",
       "      <td>0</td>\n",
       "      <td>699288</td>\n",
       "      <td>False</td>\n",
       "      <td>...</td>\n",
       "      <td>0.013788</td>\n",
       "      <td>23.353828</td>\n",
       "      <td>0.000747</td>\n",
       "      <td>Symbolic</td>\n",
       "      <td>[[CONSTANT, CONSTANT]]</td>\n",
       "      <td>[-1, 1]</td>\n",
       "      <td>UNIFORM</td>\n",
       "      <td>[[UNIFORM, 4, 4], [UNIFORM, 3, 3]]</td>\n",
       "      <td>None</td>\n",
       "      <td>NO_OVERLAPPING</td>\n",
       "    </tr>\n",
       "    <tr>\n",
       "      <th>1aa3d_00000</th>\n",
       "      <td>-1.400000</td>\n",
       "      <td>-1.833333</td>\n",
       "      <td>-1.607670</td>\n",
       "      <td>1001.000000</td>\n",
       "      <td>4</td>\n",
       "      <td>4</td>\n",
       "      <td>158528</td>\n",
       "      <td>0</td>\n",
       "      <td>158528</td>\n",
       "      <td>False</td>\n",
       "      <td>...</td>\n",
       "      <td>0.008379</td>\n",
       "      <td>22.595609</td>\n",
       "      <td>0.003833</td>\n",
       "      <td>Symbolic</td>\n",
       "      <td>[[CONSTANT, CONSTANT]]</td>\n",
       "      <td>[-1, 1]</td>\n",
       "      <td>UNIFORM</td>\n",
       "      <td>[[UNIFORM, 4, 4], [UNIFORM, 3, 3]]</td>\n",
       "      <td>None</td>\n",
       "      <td>NO_OVERLAPPING</td>\n",
       "    </tr>\n",
       "    <tr>\n",
       "      <th>1aa3d_00002</th>\n",
       "      <td>2.295000</td>\n",
       "      <td>-1.700000</td>\n",
       "      <td>-1.126045</td>\n",
       "      <td>972.444444</td>\n",
       "      <td>2</td>\n",
       "      <td>4</td>\n",
       "      <td>220656</td>\n",
       "      <td>0</td>\n",
       "      <td>220656</td>\n",
       "      <td>False</td>\n",
       "      <td>...</td>\n",
       "      <td>0.008633</td>\n",
       "      <td>22.631367</td>\n",
       "      <td>0.003833</td>\n",
       "      <td>Symbolic</td>\n",
       "      <td>[[CONSTANT, CONSTANT]]</td>\n",
       "      <td>[-1, 1]</td>\n",
       "      <td>UNIFORM</td>\n",
       "      <td>[[UNIFORM, 4, 4], [UNIFORM, 3, 3]]</td>\n",
       "      <td>None</td>\n",
       "      <td>NO_OVERLAPPING</td>\n",
       "    </tr>\n",
       "  </tbody>\n",
       "</table>\n",
       "<p>8 rows × 208 columns</p>\n",
       "</div>"
      ],
      "text/plain": [
       "             episode_reward_max  episode_reward_min  episode_reward_mean  \\\n",
       "trial_id                                                                   \n",
       "1aa3d_00006           -1.333333           -1.583333            -1.467803   \n",
       "1aa3d_00005            2.339000           -1.700000            -1.230357   \n",
       "1aa3d_00003           -1.333333           -1.777778            -1.527270   \n",
       "1aa3d_00001            2.966000           -1.777778            -1.310688   \n",
       "1aa3d_00007           -1.300000           -1.666667            -1.454383   \n",
       "1aa3d_00004            2.901000           -1.727273            -1.321223   \n",
       "1aa3d_00000           -1.400000           -1.833333            -1.607670   \n",
       "1aa3d_00002            2.295000           -1.700000            -1.126045   \n",
       "\n",
       "             episode_len_mean  episodes_this_iter  num_healthy_workers  \\\n",
       "trial_id                                                                 \n",
       "1aa3d_00006       1001.000000                   0                    4   \n",
       "1aa3d_00005        972.666667                   7                    4   \n",
       "1aa3d_00003       1001.000000                   4                    4   \n",
       "1aa3d_00001        944.117647                   4                    4   \n",
       "1aa3d_00007       1001.000000                   4                    4   \n",
       "1aa3d_00004        964.920000                   8                    4   \n",
       "1aa3d_00000       1001.000000                   4                    4   \n",
       "1aa3d_00002        972.444444                   2                    4   \n",
       "\n",
       "             timesteps_total  timesteps_this_iter  agent_timesteps_total  \\\n",
       "trial_id                                                                   \n",
       "1aa3d_00006           744092                    0                 744092   \n",
       "1aa3d_00005           276048                    0                 276048   \n",
       "1aa3d_00003            60416                    0                  60416   \n",
       "1aa3d_00001            70224                    0                  70224   \n",
       "1aa3d_00007           760992                    0                 760992   \n",
       "1aa3d_00004           699288                    0                 699288   \n",
       "1aa3d_00000           158528                    0                 158528   \n",
       "1aa3d_00002           220656                    0                 220656   \n",
       "\n",
       "              done  ...  info.learner.default_policy.learner_stats.kl  \\\n",
       "trial_id            ...                                                 \n",
       "1aa3d_00006   True  ...                                      0.002179   \n",
       "1aa3d_00005  False  ...                                      0.012192   \n",
       "1aa3d_00003  False  ...                                      0.015615   \n",
       "1aa3d_00001  False  ...                                      0.015242   \n",
       "1aa3d_00007   True  ...                                      0.003000   \n",
       "1aa3d_00004  False  ...                                      0.013788   \n",
       "1aa3d_00000  False  ...                                      0.008379   \n",
       "1aa3d_00002  False  ...                                      0.008633   \n",
       "\n",
       "             info.learner.default_policy.learner_stats.entropy  \\\n",
       "trial_id                                                         \n",
       "1aa3d_00006                                          22.028414   \n",
       "1aa3d_00005                                          23.476130   \n",
       "1aa3d_00003                                          16.129520   \n",
       "1aa3d_00001                                          15.071658   \n",
       "1aa3d_00007                                          23.003808   \n",
       "1aa3d_00004                                          23.353828   \n",
       "1aa3d_00000                                          22.595609   \n",
       "1aa3d_00002                                          22.631367   \n",
       "\n",
       "            info.learner.default_policy.learner_stats.entropy_coeff  \\\n",
       "trial_id                                                              \n",
       "1aa3d_00006                                           0.002321        \n",
       "1aa3d_00005                                           0.005750        \n",
       "1aa3d_00003                                           0.000000        \n",
       "1aa3d_00001                                           0.000000        \n",
       "1aa3d_00007                                           0.001934        \n",
       "1aa3d_00004                                           0.000747        \n",
       "1aa3d_00000                                           0.003833        \n",
       "1aa3d_00002                                           0.003833        \n",
       "\n",
       "            config.env_config.dataset_settings.dstype.value  \\\n",
       "trial_id                                                      \n",
       "1aa3d_00006                                        Symbolic   \n",
       "1aa3d_00005                                        Symbolic   \n",
       "1aa3d_00003                                        Symbolic   \n",
       "1aa3d_00001                                        Symbolic   \n",
       "1aa3d_00007                                        Symbolic   \n",
       "1aa3d_00004                                        Symbolic   \n",
       "1aa3d_00000                                        Symbolic   \n",
       "1aa3d_00002                                        Symbolic   \n",
       "\n",
       "             config.env_config.dataset_settings.patterns.value  \\\n",
       "trial_id                                                         \n",
       "1aa3d_00006                             [[CONSTANT, CONSTANT]]   \n",
       "1aa3d_00005                             [[CONSTANT, CONSTANT]]   \n",
       "1aa3d_00003                             [[CONSTANT, CONSTANT]]   \n",
       "1aa3d_00001                             [[CONSTANT, CONSTANT]]   \n",
       "1aa3d_00007                             [[CONSTANT, CONSTANT]]   \n",
       "1aa3d_00004                             [[CONSTANT, CONSTANT]]   \n",
       "1aa3d_00000                             [[CONSTANT, CONSTANT]]   \n",
       "1aa3d_00002                             [[CONSTANT, CONSTANT]]   \n",
       "\n",
       "             config.env_config.dataset_settings.symbols.value  \\\n",
       "trial_id                                                        \n",
       "1aa3d_00006                                           [-1, 1]   \n",
       "1aa3d_00005                                           [-1, 1]   \n",
       "1aa3d_00003                                           [-1, 1]   \n",
       "1aa3d_00001                                           [-1, 1]   \n",
       "1aa3d_00007                                           [-1, 1]   \n",
       "1aa3d_00004                                           [-1, 1]   \n",
       "1aa3d_00000                                           [-1, 1]   \n",
       "1aa3d_00002                                           [-1, 1]   \n",
       "\n",
       "             config.env_config.dataset_settings.bktype.value  \\\n",
       "trial_id                                                       \n",
       "1aa3d_00006                                          UNIFORM   \n",
       "1aa3d_00005                                          UNIFORM   \n",
       "1aa3d_00003                                          UNIFORM   \n",
       "1aa3d_00001                                          UNIFORM   \n",
       "1aa3d_00007                                          UNIFORM   \n",
       "1aa3d_00004                                          UNIFORM   \n",
       "1aa3d_00000                                          UNIFORM   \n",
       "1aa3d_00002                                          UNIFORM   \n",
       "\n",
       "             config.env_config.dataset_settings.clusterdistribution.value  \\\n",
       "trial_id                                                                    \n",
       "1aa3d_00006                 [[UNIFORM, 4, 4], [UNIFORM, 3, 3]]              \n",
       "1aa3d_00005                 [[UNIFORM, 4, 4], [UNIFORM, 3, 3]]              \n",
       "1aa3d_00003                 [[UNIFORM, 4, 4], [UNIFORM, 3, 3]]              \n",
       "1aa3d_00001                 [[UNIFORM, 4, 4], [UNIFORM, 3, 3]]              \n",
       "1aa3d_00007                 [[UNIFORM, 4, 4], [UNIFORM, 3, 3]]              \n",
       "1aa3d_00004                 [[UNIFORM, 4, 4], [UNIFORM, 3, 3]]              \n",
       "1aa3d_00000                 [[UNIFORM, 4, 4], [UNIFORM, 3, 3]]              \n",
       "1aa3d_00002                 [[UNIFORM, 4, 4], [UNIFORM, 3, 3]]              \n",
       "\n",
       "            config.env_config.dataset_settings.contiguity.value  \\\n",
       "trial_id                                                          \n",
       "1aa3d_00006                                               None    \n",
       "1aa3d_00005                                               None    \n",
       "1aa3d_00003                                               None    \n",
       "1aa3d_00001                                               None    \n",
       "1aa3d_00007                                               None    \n",
       "1aa3d_00004                                               None    \n",
       "1aa3d_00000                                               None    \n",
       "1aa3d_00002                                               None    \n",
       "\n",
       "            config.env_config.dataset_settings.plaidcoherency.value  \n",
       "trial_id                                                             \n",
       "1aa3d_00006                                     NO_OVERLAPPING       \n",
       "1aa3d_00005                                     NO_OVERLAPPING       \n",
       "1aa3d_00003                                     NO_OVERLAPPING       \n",
       "1aa3d_00001                                     NO_OVERLAPPING       \n",
       "1aa3d_00007                                     NO_OVERLAPPING       \n",
       "1aa3d_00004                                     NO_OVERLAPPING       \n",
       "1aa3d_00000                                     NO_OVERLAPPING       \n",
       "1aa3d_00002                                     NO_OVERLAPPING       \n",
       "\n",
       "[8 rows x 208 columns]"
      ]
     },
     "execution_count": 7,
     "metadata": {},
     "output_type": "execute_result"
    }
   ],
   "source": [
    "# get report\n",
    "\n",
    "from ray.tune import ExperimentAnalysis\n",
    "\n",
    "analysis = ExperimentAnalysis('/home/pgcotovio/repos/nclustRL/Exp/test_framework2/basic_config_v2_hypertune/sample_0/PPO_2022-03-07_22-37-00')\n",
    "\n",
    "analysis.results_df"
   ]
  },
  {
   "cell_type": "code",
   "execution_count": 27,
   "metadata": {},
   "outputs": [
    {
     "name": "stdout",
     "output_type": "stream",
     "text": [
      "Best Trial:  PPO_BiclusterEnv-v0_1aa3d_00002\n"
     ]
    },
    {
     "data": {
      "text/plain": [
       "'/home/pgcotovio/repos/nclustRL/Exp/test_framework2/basic_config_v2_hypertune/sample_0/PPO_2022-03-07_22-37-00/PPO_BiclusterEnv-v0_1aa3d_00002_2_2022-03-07_22-39-22/checkpoint_000050/checkpoint-50'"
      ]
     },
     "execution_count": 27,
     "metadata": {},
     "output_type": "execute_result"
    }
   ],
   "source": [
    "best_trial = analysis.get_best_trial(metric='episode_reward_mean', mode='max')\n",
    "print('Best Trial: ', best_trial)\n",
    "\n",
    "# best checkpoint\n",
    "\n",
    "analysis.get_best_checkpoint(trial=best_trial, metric='episode_reward_mean', mode='max')"
   ]
  },
  {
   "cell_type": "code",
   "execution_count": 28,
   "metadata": {},
   "outputs": [
    {
     "data": {
      "text/plain": [
       "{'num_workers': 4,\n",
       " 'create_env_on_driver': False,\n",
       " 'num_envs_per_worker': 1,\n",
       " 'batch_mode': 'truncate_episodes',\n",
       " 'gamma': 0.99,\n",
       " 'use_critic': True,\n",
       " 'use_gae': True,\n",
       " 'lambda': 1.3823999999999999,\n",
       " 'kl_coeff': 1.129804891567713,\n",
       " 'rollout_fragment_length': 256,\n",
       " 'train_batch_size': 4993,\n",
       " 'sgd_minibatch_size': 552,\n",
       " 'shuffle_sequences': True,\n",
       " 'num_sgd_iter': 26,\n",
       " 'lr': 5e-05,\n",
       " 'lr_schedule': None,\n",
       " 'vf_loss_coeff': 0.7668187384145115,\n",
       " 'entropy_coeff': 0.003833227135256046,\n",
       " 'entropy_coeff_schedule': None,\n",
       " 'clip_param': 0.24094779899318874,\n",
       " 'vf_clip_param': 9.216,\n",
       " 'grad_clip': None,\n",
       " 'kl_target': 0.009216,\n",
       " 'optimizer': {},\n",
       " 'horizon': None,\n",
       " 'soft_horizon': False,\n",
       " 'no_done_at_end': False,\n",
       " 'env': 'BiclusterEnv-v0',\n",
       " 'observation_space': None,\n",
       " 'action_space': None,\n",
       " 'env_config': {'shape': [[6, 6], [6, 6]],\n",
       "  'n': 1,\n",
       "  'clusters': [1, 1],\n",
       "  'dataset_settings': {'dstype': {'value': 'Symbolic'},\n",
       "   'patterns': {'value': [['CONSTANT', 'CONSTANT']]},\n",
       "   'symbols': {'value': [-1, 1]},\n",
       "   'bktype': {'value': 'UNIFORM'},\n",
       "   'clusterdistribution': {'value': [['UNIFORM', 4, 4], ['UNIFORM', 3, 3]]},\n",
       "   'contiguity': {'value': None},\n",
       "   'plaidcoherency': {'value': 'NO_OVERLAPPING'}},\n",
       "  'max_steps': 1000,\n",
       "  'seed': 175},\n",
       " 'env_task_fn': None,\n",
       " 'render_env': False,\n",
       " 'record_env': False,\n",
       " 'clip_rewards': False,\n",
       " 'normalize_actions': True,\n",
       " 'preprocessor_pref': None,\n",
       " 'log_level': 'DEBUG',\n",
       " 'ignore_worker_failures': False,\n",
       " 'log_sys_usage': True,\n",
       " 'framework': 'torch',\n",
       " 'eager_tracing': False,\n",
       " 'explore': True,\n",
       " 'exploration_config': {'type': 'StochasticSampling'},\n",
       " 'evaluation_interval': None,\n",
       " 'evaluation_num_episodes': 10,\n",
       " 'evaluation_parallel_to_training': False,\n",
       " 'in_evaluation': False,\n",
       " 'evaluation_config': {'explore': False},\n",
       " 'evaluation_num_workers': 0,\n",
       " 'custom_eval_function': None,\n",
       " 'sample_async': False,\n",
       " 'observation_filter': 'NoFilter',\n",
       " 'synchronize_filters': True,\n",
       " 'compress_observations': False,\n",
       " 'collect_metrics_timeout': 180,\n",
       " 'metrics_smoothing_episodes': 100,\n",
       " 'min_iter_time_s': 0,\n",
       " 'timesteps_per_iteration': 0,\n",
       " 'seed': 175,\n",
       " 'extra_python_environs_for_driver': {},\n",
       " 'extra_python_environs_for_worker': {},\n",
       " 'num_gpus': 0.0001,\n",
       " '_fake_gpus': False,\n",
       " 'num_cpus_per_worker': 1,\n",
       " 'num_gpus_per_worker': 0.24975,\n",
       " 'custom_resources_per_worker': {},\n",
       " 'num_cpus_for_driver': 1,\n",
       " 'placement_strategy': 'PACK',\n",
       " 'logger_config': None,\n",
       " '_disable_preprocessor_api': True,\n",
       " 'model': {'custom_model': 'general_model_torch',\n",
       "  'custom_model_config': {'fcnet_feats': [256, 256]},\n",
       "  'custom_action_dist': None}}"
      ]
     },
     "execution_count": 28,
     "metadata": {},
     "output_type": "execute_result"
    }
   ],
   "source": [
    "\n",
    "# get best config\n",
    "\n",
    "tunned_config = analysis.get_best_config(metric='episode_reward_mean', mode='max')\n",
    "tunned_config\n"
   ]
  },
  {
   "cell_type": "markdown",
   "metadata": {},
   "source": [
    "## Train basic_v2 (untunned)"
   ]
  },
  {
   "cell_type": "code",
   "execution_count": 2,
   "metadata": {},
   "outputs": [
    {
     "name": "stderr",
     "output_type": "stream",
     "text": [
      "2022-03-06 14:12:01,624\tWARNING ppo.py:143 -- `train_batch_size` (1024) cannot be achieved with your other settings (num_workers=3 num_envs_per_worker=1 rollout_fragment_length=341)! Auto-adjusting `rollout_fragment_length` to 341.\n",
      "2022-03-06 14:12:01,624\tINFO ppo.py:166 -- In multi-agent mode, policies will be optimized sequentially by the multi-GPU optimizer. Consider setting simple_optimizer=True if this doesn't work for you.\n",
      "\u001b[2m\u001b[36m(RolloutWorker pid=59108)\u001b[0m Using backend: pytorch\n",
      "\u001b[2m\u001b[36m(RolloutWorker pid=59110)\u001b[0m Using backend: pytorch\n",
      "\u001b[2m\u001b[36m(RolloutWorker pid=59109)\u001b[0m Using backend: pytorch\n",
      "\u001b[2m\u001b[36m(RolloutWorker pid=59110)\u001b[0m 2022-03-06 14:12:07,222\tINFO worker.py:852 -- Calling ray.init() again after it has already been called.\n",
      "\u001b[2m\u001b[36m(RolloutWorker pid=59108)\u001b[0m 2022-03-06 14:12:07,642\tINFO worker.py:852 -- Calling ray.init() again after it has already been called.\n",
      "\u001b[2m\u001b[36m(RolloutWorker pid=59109)\u001b[0m 2022-03-06 14:12:07,567\tINFO worker.py:852 -- Calling ray.init() again after it has already been called.\n",
      "\u001b[2m\u001b[36m(RolloutWorker pid=59108)\u001b[0m 2022-03-06 14:12:18,261\tINFO rollout_worker.py:1705 -- Validating sub-env at vector index=0 ... (ok)\n",
      "\u001b[2m\u001b[36m(RolloutWorker pid=59108)\u001b[0m 2022-03-06 14:12:18,261\tDEBUG rollout_worker.py:1534 -- Creating policy for default_policy\n",
      "\u001b[2m\u001b[36m(RolloutWorker pid=59110)\u001b[0m 2022-03-06 14:12:18,260\tINFO rollout_worker.py:1705 -- Validating sub-env at vector index=0 ... (ok)\n",
      "\u001b[2m\u001b[36m(RolloutWorker pid=59110)\u001b[0m 2022-03-06 14:12:18,261\tDEBUG rollout_worker.py:1534 -- Creating policy for default_policy\n",
      "\u001b[2m\u001b[36m(RolloutWorker pid=59109)\u001b[0m 2022-03-06 14:12:18,260\tINFO rollout_worker.py:1705 -- Validating sub-env at vector index=0 ... (ok)\n",
      "\u001b[2m\u001b[36m(RolloutWorker pid=59109)\u001b[0m 2022-03-06 14:12:18,261\tDEBUG rollout_worker.py:1534 -- Creating policy for default_policy\n",
      "\u001b[2m\u001b[36m(RolloutWorker pid=59108)\u001b[0m 2022-03-06 14:12:18,404\tINFO catalog.py:410 -- Wrapping <class 'nclustRL.models.model.RlModel'> as None\n",
      "\u001b[2m\u001b[36m(RolloutWorker pid=59110)\u001b[0m 2022-03-06 14:12:18,410\tINFO catalog.py:410 -- Wrapping <class 'nclustRL.models.model.RlModel'> as None\n",
      "\u001b[2m\u001b[36m(RolloutWorker pid=59109)\u001b[0m 2022-03-06 14:12:18,402\tINFO catalog.py:410 -- Wrapping <class 'nclustRL.models.model.RlModel'> as None\n",
      "\u001b[2m\u001b[36m(RolloutWorker pid=59108)\u001b[0m 2022-03-06 14:12:18,540\tINFO torch_policy.py:186 -- TorchPolicy (worker=2) running on 0.3333 GPU(s).\n",
      "\u001b[2m\u001b[36m(RolloutWorker pid=59108)\u001b[0m /home/pedro.cotovio/Repos/nclustRL/nclustRL/models/model.py:147: UserWarning: Forward is running with random obs, this should only be acceptable during policy inicialization.\n",
      "\u001b[2m\u001b[36m(RolloutWorker pid=59108)\u001b[0m   warnings.warn('Forward is running with random obs, this should only be acceptable during policy inicialization.')\n",
      "\u001b[2m\u001b[36m(RolloutWorker pid=59110)\u001b[0m 2022-03-06 14:12:18,543\tINFO torch_policy.py:186 -- TorchPolicy (worker=3) running on 0.3333 GPU(s).\n",
      "\u001b[2m\u001b[36m(RolloutWorker pid=59110)\u001b[0m /home/pedro.cotovio/Repos/nclustRL/nclustRL/models/model.py:147: UserWarning: Forward is running with random obs, this should only be acceptable during policy inicialization.\n",
      "\u001b[2m\u001b[36m(RolloutWorker pid=59110)\u001b[0m   warnings.warn('Forward is running with random obs, this should only be acceptable during policy inicialization.')\n",
      "\u001b[2m\u001b[36m(RolloutWorker pid=59109)\u001b[0m 2022-03-06 14:12:18,544\tINFO torch_policy.py:186 -- TorchPolicy (worker=1) running on 0.3333 GPU(s).\n",
      "\u001b[2m\u001b[36m(RolloutWorker pid=59109)\u001b[0m /home/pedro.cotovio/Repos/nclustRL/nclustRL/models/model.py:147: UserWarning: Forward is running with random obs, this should only be acceptable during policy inicialization.\n",
      "\u001b[2m\u001b[36m(RolloutWorker pid=59109)\u001b[0m   warnings.warn('Forward is running with random obs, this should only be acceptable during policy inicialization.')\n",
      "\u001b[2m\u001b[36m(RolloutWorker pid=59110)\u001b[0m 2022-03-06 14:12:24,015\tDEBUG rollout_worker.py:728 -- Created rollout worker with env <ray.rllib.env.base_env._VectorEnvToBaseEnv object at 0x7fc3202ef610> (<TransformObservation<OrderEnforcing<BiclusterEnv<BiclusterEnv-v0>>>>), policies {}\n",
      "2022-03-06 14:12:24,084\tINFO worker_set.py:104 -- Inferred observation/action spaces from remote worker (local worker has no env): {'default_policy': (Dict(action_mask:Box([0. 0. 0. 0.], [1. 1. 1. 1.], (4,), float32), avail_actions:Box([0. 0. 0. 0.], [1. 1. 1. 1.], (4,), float32), state:Box([6 6], [6 6], (2,), int32)), Tuple(Discrete(4), Tuple(Box([0. 0. 0.], [1. 1. 1.], (3,), float32), Box([0. 0. 0.], [1. 1. 1.], (3,), float32), Box([0. 0. 0.], [1. 1. 1.], (3,), float32), Box([0. 0. 0.], [1. 1. 1.], (3,), float32)))), '__env__': (Dict(action_mask:Box([0. 0. 0. 0.], [1. 1. 1. 1.], (4,), float32), avail_actions:Box([0. 0. 0. 0.], [1. 1. 1. 1.], (4,), float32), state:Box([6 6], [6 6], (2,), int32)), Tuple(Discrete(4), Tuple(Box([0. 0. 0.], [1. 1. 1.], (3,), float32), Box([0. 0. 0.], [1. 1. 1.], (3,), float32), Box([0. 0. 0.], [1. 1. 1.], (3,), float32), Box([0. 0. 0.], [1. 1. 1.], (3,), float32))))}\n",
      "2022-03-06 14:12:24,086\tDEBUG rollout_worker.py:1534 -- Creating policy for default_policy\n",
      "2022-03-06 14:12:24,101\tINFO catalog.py:410 -- Wrapping <class 'nclustRL.models.model.RlModel'> as None\n",
      "2022-03-06 14:12:24,113\tINFO torch_policy.py:186 -- TorchPolicy (worker=local) running on 0.0001 GPU(s).\n",
      "\u001b[2m\u001b[36m(RolloutWorker pid=59108)\u001b[0m 2022-03-06 14:12:24,148\tDEBUG rollout_worker.py:728 -- Created rollout worker with env <ray.rllib.env.base_env._VectorEnvToBaseEnv object at 0x7f3d67dea100> (<TransformObservation<OrderEnforcing<BiclusterEnv<BiclusterEnv-v0>>>>), policies {}\n",
      "\u001b[2m\u001b[36m(RolloutWorker pid=59109)\u001b[0m 2022-03-06 14:12:24,072\tDEBUG rollout_worker.py:728 -- Created rollout worker with env <ray.rllib.env.base_env._VectorEnvToBaseEnv object at 0x7faf3ede0100> (<TransformObservation<OrderEnforcing<BiclusterEnv<BiclusterEnv-v0>>>>), policies {}\n",
      "/home/pedro.cotovio/Repos/nclustRL/nclustRL/models/model.py:147: UserWarning: Forward is running with random obs, this should only be acceptable during policy inicialization.\n",
      "  warnings.warn('Forward is running with random obs, this should only be acceptable during policy inicialization.')\n",
      "2022-03-06 14:12:49,900\tINFO rollout_worker.py:1555 -- Built policy map: {}\n",
      "2022-03-06 14:12:49,912\tINFO rollout_worker.py:1556 -- Built preprocessor map: {'default_policy': None}\n",
      "2022-03-06 14:12:49,914\tINFO rollout_worker.py:618 -- Built filter map: {'default_policy': <ray.rllib.utils.filter.NoFilter object at 0x7f1b41018cd0>}\n",
      "2022-03-06 14:12:49,915\tDEBUG rollout_worker.py:728 -- Created rollout worker with env None (None), policies {}\n",
      "2022-03-06 14:12:50,030\tINFO trainable.py:124 -- Trainable.setup took 48.408 seconds. If your trainable is slow to initialize, consider setting reuse_actors=True to reduce actor creation overheads.\n",
      "2022-03-06 14:12:50,062\tWARNING util.py:57 -- Install gputil for GPU system monitoring.\n"
     ]
    }
   ],
   "source": [
    "config = DEFAULT_CONFIG.copy()\n",
    "config['env_config'] = biclustering.binary.basic_v2\n",
    "\n",
    "trainer_basic_v2_unttuned = Trainer(\n",
    "    trainer=PPOTrainer,\n",
    "    env='BiclusterEnv-v0',\n",
    "    save_dir='/home/pedro.cotovio/Repos/nclustRL/Exp/test_framework2',\n",
    "    name='basic_v2_config',\n",
    "    config=config\n",
    ")"
   ]
  },
  {
   "cell_type": "markdown",
   "metadata": {},
   "source": [
    "#### Test random agent in basic_v2"
   ]
  },
  {
   "cell_type": "code",
   "execution_count": 3,
   "metadata": {},
   "outputs": [
    {
     "name": "stdout",
     "output_type": "stream",
     "text": [
      "Episode 1 of 10 done.\n",
      "Episode 2 of 10 done.\n",
      "Episode 3 of 10 done.\n",
      "Episode 4 of 10 done.\n",
      "Episode 5 of 10 done.\n",
      "Episode 6 of 10 done.\n",
      "Episode 7 of 10 done.\n",
      "Episode 8 of 10 done.\n",
      "Episode 9 of 10 done.\n",
      "Episode 10 of 10 done.\n"
     ]
    },
    {
     "data": {
      "text/plain": [
       "(-1.9142857142857153, 0.08571428571428567)"
      ]
     },
     "execution_count": 3,
     "metadata": {},
     "output_type": "execute_result"
    }
   ],
   "source": [
    "trainer_basic_v2_unttuned.test()"
   ]
  },
  {
   "cell_type": "markdown",
   "metadata": {},
   "source": [
    "#### train agent"
   ]
  },
  {
   "cell_type": "code",
   "execution_count": 6,
   "metadata": {},
   "outputs": [
    {
     "data": {
      "text/html": [
       "== Status ==<br>Current time: 2022-03-06 18:49:58 (running for 04:31:07.40)<br>Memory usage on this node: 14.2/15.6 GiB: ***LOW MEMORY*** less than 10% of the memory on this node is available for use. This can cause unexpected crashes. Consider reducing the memory used by your application or reducing the Ray object store size by setting `object_store_memory` when calling `ray.init`.<br>Using FIFO scheduling algorithm.<br>Resources requested: 4.0/4 CPUs, 1.0/1 GPUs, 0.0/7.92 GiB heap, 0.0/3.96 GiB objects (0.0/1.0 accelerator_type:T4)<br>Current best trial: 58725_00000 with episode_reward_mean=-1.2226448484848493 and parameters={'num_workers': 3, 'num_envs_per_worker': 1, 'create_env_on_driver': False, 'rollout_fragment_length': 341, 'batch_mode': 'truncate_episodes', 'gamma': 0.99, 'lr': 5e-05, 'train_batch_size': 1024, 'model': {'_use_default_native_models': False, '_disable_preprocessor_api': True, 'fcnet_hiddens': [256, 256], 'fcnet_activation': 'tanh', 'conv_filters': None, 'conv_activation': 'relu', 'post_fcnet_hiddens': [], 'post_fcnet_activation': 'relu', 'free_log_std': False, 'no_final_linear': False, 'vf_share_layers': False, 'use_lstm': False, 'max_seq_len': 20, 'lstm_cell_size': 256, 'lstm_use_prev_action': False, 'lstm_use_prev_reward': False, '_time_major': False, 'use_attention': False, 'attention_num_transformer_units': 1, 'attention_dim': 64, 'attention_num_heads': 1, 'attention_head_dim': 32, 'attention_memory_inference': 50, 'attention_memory_training': 50, 'attention_position_wise_mlp_dim': 32, 'attention_init_gru_gate_bias': 2.0, 'attention_use_n_prev_actions': 0, 'attention_use_n_prev_rewards': 0, 'framestack': True, 'dim': 84, 'grayscale': False, 'zero_mean': True, 'custom_model': 'general_model_torch', 'custom_model_config': {'fcnet_feats': [256, 256]}, 'custom_action_dist': None, 'custom_preprocessor': None, 'lstm_use_prev_action_reward': -1}, 'optimizer': {}, 'horizon': None, 'soft_horizon': False, 'no_done_at_end': False, 'env': 'BiclusterEnv-v0', 'observation_space': None, 'action_space': None, 'env_config': {'shape': [[6, 6], [6, 6]], 'n': 1, 'clusters': [1, 1], 'dataset_settings': {'dstype': {'value': 'Symbolic'}, 'patterns': {'value': [['CONSTANT', 'CONSTANT']]}, 'symbols': {'value': [-1, 1]}, 'bktype': {'value': 'UNIFORM'}, 'clusterdistribution': {'value': [['UNIFORM', 4, 4], ['UNIFORM', 3, 3]]}, 'contiguity': {'value': None}, 'plaidcoherency': {'value': 'NO_OVERLAPPING'}}, 'max_steps': 1000, 'seed': 537}, 'remote_worker_envs': False, 'remote_env_batch_wait_ms': 0, 'env_task_fn': None, 'render_env': False, 'record_env': False, 'clip_rewards': False, 'normalize_actions': True, 'clip_actions': False, 'preprocessor_pref': None, 'log_level': 'DEBUG', 'callbacks': <class 'ray.rllib.agents.callbacks.DefaultCallbacks'>, 'ignore_worker_failures': False, 'log_sys_usage': True, 'fake_sampler': False, 'framework': 'torch', 'eager_tracing': False, 'eager_max_retraces': 20, 'explore': True, 'exploration_config': {'type': 'StochasticSampling'}, 'evaluation_interval': None, 'evaluation_num_episodes': 10, 'evaluation_parallel_to_training': False, 'in_evaluation': False, 'evaluation_config': {'explore': False}, 'evaluation_num_workers': 0, 'custom_eval_function': None, 'sample_async': False, 'sample_collector': <class 'ray.rllib.evaluation.collectors.simple_list_collector.SimpleListCollector'>, 'observation_filter': 'NoFilter', 'synchronize_filters': True, 'tf_session_args': {'intra_op_parallelism_threads': 2, 'inter_op_parallelism_threads': 2, 'gpu_options': {'allow_growth': True}, 'log_device_placement': False, 'device_count': {'CPU': 1}, 'allow_soft_placement': True}, 'local_tf_session_args': {'intra_op_parallelism_threads': 8, 'inter_op_parallelism_threads': 8}, 'compress_observations': False, 'collect_metrics_timeout': 180, 'metrics_smoothing_episodes': 100, 'min_iter_time_s': 0, 'timesteps_per_iteration': 0, 'seed': 537, 'extra_python_environs_for_driver': {}, 'extra_python_environs_for_worker': {}, 'num_gpus': 0.0001, '_fake_gpus': False, 'num_cpus_per_worker': 1, 'num_gpus_per_worker': 0.3333, 'custom_resources_per_worker': {}, 'num_cpus_for_driver': 1, 'placement_strategy': 'PACK', 'input': 'sampler', 'input_config': {}, 'actions_in_input_normalized': False, 'input_evaluation': ['is', 'wis'], 'postprocess_inputs': False, 'shuffle_buffer_size': 0, 'output': None, 'output_compress_columns': ['obs', 'new_obs'], 'output_max_file_size': 67108864, 'multiagent': {'policies': {'default_policy': PolicySpec(policy_class=<class 'ray.rllib.agents.ppo.ppo_torch_policy.PPOTorchPolicy'>, observation_space=None, action_space=None, config={})}, 'policy_map_capacity': 100, 'policy_map_cache': None, 'policy_mapping_fn': None, 'policies_to_train': None, 'observation_fn': None, 'replay_mode': 'independent', 'count_steps_by': 'env_steps'}, 'logger_config': None, '_tf_policy_handles_more_than_one_loss': False, '_disable_preprocessor_api': True, 'simple_optimizer': False, 'monitor': -1, 'use_critic': True, 'use_gae': True, 'lambda': 1.0, 'kl_coeff': 0.2, 'sgd_minibatch_size': 128, 'shuffle_sequences': True, 'num_sgd_iter': 30, 'lr_schedule': None, 'vf_loss_coeff': 1.0, 'entropy_coeff': 0.0, 'entropy_coeff_schedule': None, 'clip_param': 0.3, 'vf_clip_param': 10.0, 'grad_clip': None, 'kl_target': 0.01, 'vf_share_layers': -1}<br>Result logdir: /home/pedro.cotovio/Repos/nclustRL/Exp/test_framework2/basic_v2_config/sample_0/PPO_2022-03-06_14-18-50<br>Number of trials: 1/1 (1 RUNNING)<br><br>"
      ],
      "text/plain": [
       "<IPython.core.display.HTML object>"
      ]
     },
     "metadata": {},
     "output_type": "display_data"
    }
   ],
   "source": [
    "best_checkpoint = trainer_basic_v2_unttuned.train(stop_iters=1000)\n",
    "best_checkpoint"
   ]
  },
  {
   "cell_type": "markdown",
   "metadata": {},
   "source": [
    "#### load and test trained agent"
   ]
  },
  {
   "cell_type": "code",
   "execution_count": null,
   "metadata": {},
   "outputs": [],
   "source": [
    "# load agent\n",
    "trainer_basic_v2_unttuned.load('home/pgcotovio/repos/nclustRL/Exp/test_framework2/basic_v2_config/sample_0/PPO_2022-03-06_14-18-50')\n",
    "\n",
    "# test agent\n",
    "trainer_basic_v2_unttuned.test()"
   ]
  },
  {
   "cell_type": "markdown",
   "metadata": {},
   "source": [
    "### Train basic_v2 (tunned)"
   ]
  },
  {
   "cell_type": "code",
   "execution_count": null,
   "metadata": {},
   "outputs": [],
   "source": [
    "# Inicilize\n",
    "config = TUNNED_CONFIG.copy()\n",
    "config['env_config'] = biclustering.binary.basic_v2\n",
    "\n",
    "trainer_basic_v2_tunned = Trainer(\n",
    "    trainer=PPOTrainer,\n",
    "    env='BiclusterEnv-v0',\n",
    "    save_dir='/home/pedro.cotovio/Repos/nclustRL/Exp/test_framework2',\n",
    "    name='basic_v2_tunned_config',\n",
    "    config=config\n",
    ")"
   ]
  },
  {
   "cell_type": "code",
   "execution_count": null,
   "metadata": {},
   "outputs": [],
   "source": [
    "# train\n",
    "best_checkpoint = trainer_basic_v2_tunned.train(stop_iters=1000)\n",
    "best_checkpoint"
   ]
  },
  {
   "cell_type": "code",
   "execution_count": null,
   "metadata": {},
   "outputs": [],
   "source": [
    "# load and test\n",
    "trainer_basic_v2_tunned.load('')\n",
    "\n",
    "trainer_basic_v2_tunned.test()"
   ]
  },
  {
   "cell_type": "markdown",
   "metadata": {},
   "source": [
    "### Train Basic_v2 Int (tunned)"
   ]
  },
  {
   "cell_type": "markdown",
   "metadata": {},
   "source": [
    "## Triclustring"
   ]
  },
  {
   "cell_type": "markdown",
   "metadata": {},
   "source": []
  }
 ],
 "metadata": {
  "interpreter": {
   "hash": "729828cdc861d6d099b66561a3a946b82b8f1c817032c383ea17d59bc3dfae8c"
  },
  "kernelspec": {
   "display_name": "venv",
   "language": "python",
   "name": "python3"
  },
  "language_info": {
   "codemirror_mode": {
    "name": "ipython",
    "version": 3
   },
   "file_extension": ".py",
   "mimetype": "text/x-python",
   "name": "python",
   "nbconvert_exporter": "python",
   "pygments_lexer": "ipython3",
   "version": "3.8.10"
  },
  "orig_nbformat": 4
 },
 "nbformat": 4,
 "nbformat_minor": 2
}
